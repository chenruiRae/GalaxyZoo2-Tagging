{
 "cells": [
  {
   "cell_type": "code",
   "execution_count": 8,
   "metadata": {},
   "outputs": [],
   "source": [
    "import os\n",
    "import random\n",
    "import textwrap\n",
    "from PIL import Image, ImageDraw, ImageFont"
   ]
  },
  {
   "cell_type": "code",
   "execution_count": 2,
   "metadata": {},
   "outputs": [],
   "source": [
    "# 设置图片和标签的文件夹路径\n",
    "images_folder = '/data_150T/home/mcr9196/galaxyzoo/images'\n",
    "tags_folder = '/data_150T/home/mcr9196/galaxyzoo/tags'"
   ]
  },
  {
   "cell_type": "code",
   "execution_count": 13,
   "metadata": {},
   "outputs": [],
   "source": [
    "# 假设 'tags_folder' 和 'images_folder' 已经定义\n",
    "txt_files = [f for f in os.listdir(tags_folder) if f.endswith('.txt')]\n",
    "\n",
    "# 随机选择10个txt文件\n",
    "selected_tags = random.sample(txt_files, 10)\n",
    "\n",
    "# 设置每张图片的宽度和高度\n",
    "img_width = 424\n",
    "img_height = 424\n",
    "tag_width = 400  # 标签区域的宽度\n",
    "padding = 10  # 标签和图片之间的间隔\n",
    "\n",
    "# 计算拼图的总宽度和总高度\n",
    "total_width = img_width + tag_width + padding\n",
    "total_height = len(selected_tags) * img_height\n",
    "\n",
    "# 创建一个新的图片用于拼图，初始化为白色背景\n",
    "puzzle_image = Image.new('RGB', (total_width, total_height), (255, 255, 255))\n",
    "\n",
    "# 设置字体，使用一个TTF字体文件，如arial.ttf\n",
    "font_path = \"/usr/share/fonts/truetype/dejavu/DejaVuSans-Bold.ttf\"  # 替换为你系统上的TTF文件路径\n",
    "font = ImageFont.truetype(font_path, 20)  # 设置字体大小\n",
    "\n",
    "# 设置初始纵坐标\n",
    "y = 0\n",
    "\n",
    "# 将选中的图片拼接到新图片上，并在右侧添加对应的tag\n",
    "for tag_name in selected_tags:\n",
    "    img_name = os.path.splitext(tag_name)[0] + '.jpg'\n",
    "    img_path = os.path.join(images_folder, img_name)\n",
    "    \n",
    "    # 确保对应的jpg文件存在\n",
    "    if os.path.exists(img_path):\n",
    "        # 打开图片\n",
    "        with Image.open(img_path) as img:\n",
    "            # 将图片粘贴到拼图上\n",
    "            puzzle_image.paste(img.resize((img_width, img_height)), (0, y))\n",
    "            \n",
    "            # 读取对应的tag\n",
    "            with open(os.path.join(tags_folder, tag_name), 'r') as tag_file:\n",
    "                tag_content = tag_file.read()\n",
    "                \n",
    "            # 使用textwrap进行标签换行，控制标签的最大宽度\n",
    "            wrapped_tag = textwrap.fill(tag_content, width=25)  # 宽度可调节，控制换行\n",
    "            \n",
    "            # 计算标签的边界框\n",
    "            draw = ImageDraw.Draw(puzzle_image)\n",
    "            bbox = draw.textbbox((0, 0), wrapped_tag, font=font)\n",
    "            tag_height = bbox[3] - bbox[1]\n",
    "            \n",
    "            # 计算文本位置，标签放在图片的右边\n",
    "            text_x = img_width + padding\n",
    "            text_y = y + (img_height - tag_height) // 2\n",
    "            \n",
    "            # 在图片右侧绘制标签\n",
    "            draw.text((text_x, y), wrapped_tag, font=font, fill=(0, 0, 0))\n",
    "            \n",
    "            # 更新y坐标，下一张图片放在下面\n",
    "            y += img_height\n",
    "\n",
    "# 保存拼图图片\n",
    "puzzle_image.save('gz2_check.jpg')\n"
   ]
  },
  {
   "cell_type": "markdown",
   "metadata": {},
   "source": [
    "#### 拼一个大图 4*10"
   ]
  },
  {
   "cell_type": "code",
   "execution_count": 14,
   "metadata": {},
   "outputs": [],
   "source": [
    "# 加载四张图片\n",
    "img_names = [\"gz2_check0.jpg\", \"gz2_check1.jpg\", \"gz2_check2.jpg\", \"gz2_check3.jpg\"]\n",
    "images = [Image.open(img_name) for img_name in img_names]\n",
    "\n",
    "# 获取单张图片的宽度和高度（假设四张图片大小相同）\n",
    "img_width, img_height = images[0].size\n",
    "\n",
    "# 计算拼接后的总宽度和高度（高度保持不变，总宽度是4张图片的宽度之和）\n",
    "total_width = img_width * len(images)\n",
    "total_height = img_height\n",
    "\n",
    "# 创建新图像，宽度为四张图的宽度之和，高度为单张图的高度\n",
    "combined_image = Image.new('RGB', (total_width, total_height))\n",
    "\n",
    "# 将四张图片从左到右依次粘贴到新图像上\n",
    "x_offset = 0\n",
    "for img in images:\n",
    "    combined_image.paste(img, (x_offset, 0))\n",
    "    x_offset += img_width\n",
    "\n",
    "# 保存拼接好的图片\n",
    "combined_image.save(\"combined_gz2_check.jpg\")\n"
   ]
  },
  {
   "cell_type": "code",
   "execution_count": null,
   "metadata": {},
   "outputs": [],
   "source": []
  }
 ],
 "metadata": {
  "kernelspec": {
   "display_name": "hcpdiff",
   "language": "python",
   "name": "python3"
  },
  "language_info": {
   "codemirror_mode": {
    "name": "ipython",
    "version": 3
   },
   "file_extension": ".py",
   "mimetype": "text/x-python",
   "name": "python",
   "nbconvert_exporter": "python",
   "pygments_lexer": "ipython3",
   "version": "3.8.19"
  }
 },
 "nbformat": 4,
 "nbformat_minor": 2
}
