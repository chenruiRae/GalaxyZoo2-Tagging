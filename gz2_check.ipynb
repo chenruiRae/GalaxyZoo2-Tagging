{
 "cells": [
  {
   "cell_type": "code",
   "execution_count": 8,
   "metadata": {},
   "outputs": [],
   "source": [
    "import os\n",
    "import random\n",
    "import textwrap\n",
    "from PIL import Image, ImageDraw, ImageFont"
   ]
  },
  {
   "cell_type": "code",
   "execution_count": 2,
   "metadata": {},
   "outputs": [],
   "source": [
    "images_folder = './images'\n",
    "tags_folder = './tags'"
   ]
  },
  {
   "cell_type": "code",
   "execution_count": 13,
   "metadata": {},
   "outputs": [],
   "source": [
    "txt_files = [f for f in os.listdir(tags_folder) if f.endswith('.txt')]\n",
    "\n",
    "# Select 10 txt files randomly\n",
    "selected_tags = random.sample(txt_files, 10)\n",
    "\n",
    "# Set image width and height\n",
    "img_width = 424\n",
    "img_height = 424\n",
    "tag_width = 400  # width of tags\n",
    "padding = 10  # pad between tags\n",
    "\n",
    "total_width = img_width + tag_width + padding\n",
    "total_height = len(selected_tags) * img_height\n",
    "\n",
    "# Create a new picture for the puzzle, initialized with a white background\n",
    "puzzle_image = Image.new('RGB', (total_width, total_height), (255, 255, 255))\n",
    "\n",
    "# To set the font, use a TTF font file such as arial.ttf\n",
    "font_path = \"/usr/share/fonts/truetype/dejavu/DejaVuSans-Bold.ttf\"  # Replace with the TTF file path on your system\n",
    "font = ImageFont.truetype(font_path, 20)  # Set font size\n",
    "\n",
    "# Set the initial ordinate\n",
    "y = 0\n",
    "\n",
    "# Splice the selected image onto the new image and add the corresponding tag on the right side\n",
    "for tag_name in selected_tags:\n",
    "    img_name = os.path.splitext(tag_name)[0] + '.jpg'\n",
    "    img_path = os.path.join(images_folder, img_name)\n",
    "    \n",
    "    # Make sure corresponding jpg file exits\n",
    "    if os.path.exists(img_path):\n",
    "        # open image\n",
    "        with Image.open(img_path) as img:\n",
    "            # Paste the picture onto the puzzle\n",
    "            puzzle_image.paste(img.resize((img_width, img_height)), (0, y))\n",
    "            \n",
    "            # Read corresponding tag\n",
    "            with open(os.path.join(tags_folder, tag_name), 'r') as tag_file:\n",
    "                tag_content = tag_file.read()\n",
    "                \n",
    "            # Use textwrap to wrap labels and control the maximum width of labels\n",
    "            wrapped_tag = textwrap.fill(tag_content, width=25)  # 宽度可调节，控制换行\n",
    "            \n",
    "            # Calculates the bounding box of the label\n",
    "            draw = ImageDraw.Draw(puzzle_image)\n",
    "            bbox = draw.textbbox((0, 0), wrapped_tag, font=font)\n",
    "            tag_height = bbox[3] - bbox[1]\n",
    "            \n",
    "            # Calculate the text position and place the label to the right of the picture\n",
    "            text_x = img_width + padding\n",
    "            text_y = y + (img_height - tag_height) // 2\n",
    "            \n",
    "            # Draw a label on the right side of the picture\n",
    "            draw.text((text_x, y), wrapped_tag, font=font, fill=(0, 0, 0))\n",
    "            \n",
    "            # Update the y coordinates and put the next picture below\n",
    "            y += img_height\n",
    "\n",
    "# Save puzzle picture\n",
    "puzzle_image.save('gz2_check.jpg')\n"
   ]
  },
  {
   "cell_type": "markdown",
   "metadata": {},
   "source": [
    "#### Make a combined puzzle picture 4*10"
   ]
  },
  {
   "cell_type": "code",
   "execution_count": 14,
   "metadata": {},
   "outputs": [],
   "source": [
    "# Load 4 base puzzle picture\n",
    "img_names = [\"gz2_check0.jpg\", \"gz2_check1.jpg\", \"gz2_check2.jpg\", \"gz2_check3.jpg\"]\n",
    "images = [Image.open(img_name) for img_name in img_names]\n",
    "\n",
    "# 获取单张图片的宽度和高度（假设四张图片大小相同）\n",
    "img_width, img_height = images[0].size\n",
    "\n",
    "# Get the width and height of a single image (assuming all four images are the same size)\n",
    "total_width = img_width * len(images)\n",
    "total_height = img_height\n",
    "\n",
    "# Create a new image with a width equal to the sum of the widths of the four graphs and a height equal to the height of the single graph\n",
    "combined_image = Image.new('RGB', (total_width, total_height))\n",
    "\n",
    "# Paste the four images from left to right onto the new image\n",
    "x_offset = 0\n",
    "for img in images:\n",
    "    combined_image.paste(img, (x_offset, 0))\n",
    "    x_offset += img_width\n",
    "\n",
    "# Save puzzle picture\n",
    "combined_image.save(\"combined_gz2_check.jpg\")\n"
   ]
  },
  {
   "cell_type": "code",
   "execution_count": null,
   "metadata": {},
   "outputs": [],
   "source": []
  }
 ],
 "metadata": {
  "kernelspec": {
   "display_name": "hcpdiff",
   "language": "python",
   "name": "python3"
  },
  "language_info": {
   "codemirror_mode": {
    "name": "ipython",
    "version": 3
   },
   "file_extension": ".py",
   "mimetype": "text/x-python",
   "name": "python",
   "nbconvert_exporter": "python",
   "pygments_lexer": "ipython3",
   "version": "3.8.19"
  }
 },
 "nbformat": 4,
 "nbformat_minor": 2
}
